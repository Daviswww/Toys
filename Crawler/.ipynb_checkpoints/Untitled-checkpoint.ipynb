{
 "cells": [
  {
   "cell_type": "code",
   "execution_count": 14,
   "metadata": {
    "scrolled": false
   },
   "outputs": [],
   "source": [
    "import requests\n",
    "import shutil\n",
    "from bs4 import BeautifulSoup\n",
    "import os\n",
    "from urllib.request import urlretrieve\n",
    "from bs4 import BeautifulSoup\n",
    "from urllib.error import HTTPError\n",
    "import sys\n",
    "\n",
    "headers = {'User-Agent':\"Mozilla/5.0 (Windows NT 6.1; WOW64) AppleWebKit/537.1 (KHTML, like Gecko) Chrome/22.0.1207.1 Safari/537.1\"}"
   ]
  },
  {
   "cell_type": "code",
   "execution_count": 15,
   "metadata": {},
   "outputs": [
    {
     "name": "stdout",
     "output_type": "stream",
     "text": [
      "王宝强\n",
      "http://cdn01.happyjuzi.com/upload/star/58575238911bc.png?imageMogr2/thumbnail/!220x220r/gravity/North/crop/220x220\n",
      "罗晋\n",
      "http://cdn01.happyjuzi.com/upload/star/587dbb4269abb.png?imageMogr2/thumbnail/!220x220r/gravity/North/crop/220x220\n",
      "周冬雨\n",
      "http://cdn01.happyjuzi.com/upload/star/585750926a9e5.png?imageMogr2/thumbnail/!220x220r/gravity/North/crop/220x220\n",
      "边伯贤\n",
      "http://cdn01.happyjuzi.com/upload/star/585751b98182f.png?imageMogr2/thumbnail/!220x220r/gravity/North/crop/220x220\n",
      "霍建华\n",
      "http://cdn01.happyjuzi.com/upload/star/5865f035bcaa3.png?imageMogr2/thumbnail/!220x220r/gravity/North/crop/220x220\n",
      "蔡依林\n",
      "http://cdn01.happyjuzi.com/upload/star/58bd3d1802913.png?imageMogr2/thumbnail/!220x220r/gravity/North/crop/220x220\n",
      "董子健\n",
      "http://cdn01.happyjuzi.com/upload/star/58db54a53ac25.png?imageMogr2/thumbnail/!220x220r/gravity/North/crop/220x220\n",
      "小罗伯特·唐尼\n",
      "http://cdn01.happyjuzi.com/upload/star/587dc7b47cba8.png?imageMogr2/thumbnail/!220x220r/gravity/North/crop/220x220\n",
      "张彬彬\n",
      "http://cdn01.happyjuzi.com/upload/star/5899891732ff0.png?imageMogr2/thumbnail/!220x220r/gravity/North/crop/220x220\n",
      "黄景瑜\n",
      "http://cdn01.happyjuzi.com/upload/star/57209720a8f37.png?imageMogr2/thumbnail/!220x220r/gravity/North/crop/220x220\n",
      "郭子凡\n",
      "http://cdn01.happyjuzi.com/upload/star/594632003c7dc.png?imageMogr2/thumbnail/!220x220r/gravity/North/crop/220x220\n",
      "斯嘉丽·约翰逊\n",
      "http://cdn01.happyjuzi.com/upload/star/58d1ee4110882.png?imageMogr2/thumbnail/!220x220r/gravity/North/crop/220x220\n",
      "王嘉尔\n",
      "http://cdn01.happyjuzi.com/upload/star/587ed3a0ad06a.png?imageMogr2/thumbnail/!220x220r/gravity/North/crop/220x220\n",
      "任嘉伦\n",
      "http://cdn01.happyjuzi.com/upload/star/58d0de8c219b0.png?imageMogr2/thumbnail/!220x220r/gravity/North/crop/220x220\n",
      "李栋旭\n",
      "http://cdn01.happyjuzi.com/upload/star/587d88a138cad.png?imageMogr2/thumbnail/!220x220r/gravity/North/crop/220x220\n",
      "金高银\n",
      "http://cdn01.happyjuzi.com/upload/star/587d88288ea17.png?imageMogr2/thumbnail/!220x220r/gravity/North/crop/220x220\n",
      "小松菜奈\n",
      "http://cdn01.happyjuzi.com/upload/star/586cbb732178f.png?imageMogr2/thumbnail/!220x220r/gravity/North/crop/220x220\n",
      "李·佩斯\n",
      "http://cdn01.happyjuzi.com/upload/star/587dc934192b8.png?imageMogr2/thumbnail/!220x220r/gravity/North/crop/220x220\n",
      "泰勒·斯威夫特\n",
      "http://cdn01.happyjuzi.com/upload/star/5857502387dcd.png?imageMogr2/thumbnail/!220x220r/gravity/North/crop/220x220\n",
      "山下智久\n",
      "http://cdn01.happyjuzi.com/upload/star/585b87ca2dc86.png?imageMogr2/thumbnail/!220x220r/gravity/North/crop/220x220\n",
      "张天爱\n",
      "http://cdn01.happyjuzi.com/upload/star/5864e430c5430.png?imageMogr2/thumbnail/!220x220r/gravity/North/crop/220x220\n",
      "刘威龙\n",
      "http://cdn01.happyjuzi.com/upload/star/58e5dd32c8ed4.png?imageMogr2/thumbnail/!220x220r/gravity/North/crop/220x220\n",
      "孔刘\n",
      "http://cdn01.happyjuzi.com/upload/star/586b790f36386.png?imageMogr2/thumbnail/!220x220r/gravity/North/crop/220x220\n",
      "邢昭林\n",
      "http://cdn01.happyjuzi.com/upload/star/59817a080bee5.png?imageMogr2/thumbnail/!220x220r/gravity/North/crop/220x220\n",
      "全智贤\n",
      "http://cdn01.happyjuzi.com/upload/star/585752a699be2.png?imageMogr2/thumbnail/!220x220r/gravity/North/crop/220x220\n",
      "蒋勤勤\n",
      "http://cdn01.happyjuzi.com/upload/star/58db459bb2daa.png?imageMogr2/thumbnail/!220x220r/gravity/North/crop/220x220\n",
      "黄渤\n",
      "http://cdn01.happyjuzi.com/upload/star/5858dc86965ae.png?imageMogr2/thumbnail/!220x220r/gravity/North/crop/220x220\n",
      "余男\n",
      "http://cdn01.happyjuzi.com/upload/star/59819a059e2e8.png?imageMogr2/thumbnail/!220x220r/gravity/North/crop/220x220\n",
      "姜思达\n",
      "http://cdn01.happyjuzi.com/upload/star/57a81b1e62f53.png?imageMogr2/thumbnail/!220x220r/gravity/North/crop/220x220\n",
      "卢杉\n",
      "http://cdn01.happyjuzi.com/upload/star/58b63d9b8713b.png?imageMogr2/thumbnail/!220x220r/gravity/North/crop/220x220\n",
      "詹妮弗·劳伦斯\n",
      "http://cdn01.happyjuzi.com/upload/star/5608fea681b57.png?imageMogr2/thumbnail/!220x220r/gravity/North/crop/220x220\n",
      "乔欣\n",
      "http://cdn01.happyjuzi.com/upload/star/5943984bad6b3.png?imageMogr2/thumbnail/!220x220r/gravity/North/crop/220x220\n",
      "邓伦\n",
      "http://cdn01.happyjuzi.com/upload/star/59439a6fefc54.png?imageMogr2/thumbnail/!220x220r/gravity/North/crop/220x220\n",
      "欧阳靖\n",
      "http://cdn01.happyjuzi.com/upload/star/597184ff43eab.png?imageMogr2/thumbnail/!220x220r/gravity/North/crop/220x220\n",
      "奥兰多·布鲁姆\n",
      "http://cdn01.happyjuzi.com/upload/star/587dc854c9a96.png?imageMogr2/thumbnail/!220x220r/gravity/North/crop/220x220\n",
      "马天宇\n",
      "http://cdn01.happyjuzi.com/upload/star/5865f069745d7.png?imageMogr2/thumbnail/!220x220r/gravity/North/crop/220x220\n",
      "吴亦凡\n",
      "http://cdn01.happyjuzi.com/upload/star/587db622a638a.png?imageMogr2/thumbnail/!220x220r/gravity/North/crop/220x220\n",
      "张慧雯\n",
      "http://cdn01.happyjuzi.com/upload/star/5609067fd58c4.png?imageMogr2/thumbnail/!220x220r/gravity/North/crop/220x220\n",
      "代斯\n",
      "http://cdn01.happyjuzi.com/upload/star/58d0d958adc3a.png?imageMogr2/thumbnail/!220x220r/gravity/North/crop/220x220\n",
      "吴世勋\n",
      "http://cdn01.happyjuzi.com/upload/star/585753d8a1558.png?imageMogr2/thumbnail/!220x220r/gravity/North/crop/220x220\n",
      "林丹\n",
      "http://cdn01.happyjuzi.com/upload/star/5859ed311cfd4.png?imageMogr2/thumbnail/!220x220r/gravity/North/crop/220x220\n",
      "林肯公园\n",
      "http://cdn01.happyjuzi.com/upload/star/585a4b9c5b4f7.png?imageMogr2/thumbnail/!220x220r/gravity/North/crop/220x220\n",
      "王子桀\n",
      "http://cdn01.happyjuzi.com/upload/star/595f4706ef57e.png?imageMogr2/thumbnail/!220x220r/gravity/North/crop/220x220\n",
      "金贤重\n",
      "http://cdn01.happyjuzi.com/upload/star/584e408ec627c.png?imageMogr2/thumbnail/!220x220r/gravity/North/crop/220x220\n",
      "威尔·史密斯\n",
      "http://cdn01.happyjuzi.com/upload/star/584e4cd6ceceb.png?imageMogr2/thumbnail/!220x220r/gravity/North/crop/220x220\n",
      "迈克尔·杰克逊\n",
      "http://cdn01.happyjuzi.com/upload/star/584e4d9cd65f2.png?imageMogr2/thumbnail/!220x220r/gravity/North/crop/220x220\n",
      "朴有天\n",
      "http://cdn01.happyjuzi.com/upload/star/5858d9bcbd006.png?imageMogr2/thumbnail/!220x220r/gravity/North/crop/220x220\n",
      "Radwimps\n",
      "http://cdn01.happyjuzi.com/upload/star/586c860f29fca.png?imageMogr2/thumbnail/!220x220r/gravity/North/crop/220x220\n",
      "查斯特·贝宁顿\n",
      "http://cdn01.happyjuzi.com/upload/star/5971836ceb03b.png?imageMogr2/thumbnail/!220x220r/gravity/North/crop/220x220\n",
      "马伊琍\n",
      "http://cdn01.happyjuzi.com/upload/star/5858dc36e8759.png?imageMogr2/thumbnail/!220x220r/gravity/North/crop/220x220\n",
      "张雪迎\n",
      "http://cdn01.happyjuzi.com/upload/star/57208328b8098.png?imageMogr2/thumbnail/!220x220r/gravity/North/crop/220x220\n",
      "张大大\n",
      "http://cdn01.happyjuzi.com/upload/star/57207ffc1b9ef.png?imageMogr2/thumbnail/!220x220r/gravity/North/crop/220x220\n",
      "张晋\n",
      "http://cdn01.happyjuzi.com/upload/star/594399545d04c.png?imageMogr2/thumbnail/!220x220r/gravity/North/crop/220x220\n",
      "finish\n"
     ]
    }
   ],
   "source": [
    "j = 0\n",
    "i = 2\n",
    "fout = open('test.txt', 'w', encoding = 'utf8')\n",
    "while i < 22:\n",
    "\t#網址\n",
    "    re = requests.get('http://www.happyjuzi.com/star-ku/p'+str(i)+'.html')\n",
    "    soup = BeautifulSoup(re.text)\n",
    "    #要抓的目標\n",
    "    allimgs = soup.find_all('div', 'star_hotstar')\n",
    "    for img in allimgs:\n",
    "        src = img.find('img')['src']\n",
    "        tp = src.split('?')[0]\n",
    "        tp = tp.split('/')[-1]\n",
    "        tp = tp.split('.')[-1]\n",
    "        if tp == 'jpg':\n",
    "            #圖片名稱\n",
    "            fname = img.find('a')['title'].encode(encoding=\"utf-8\").decode(\"utf-8\")\n",
    "            print(fname)\n",
    "            fout.write(fname+'\\n')\n",
    "            #圖片連結\n",
    "            print(src)\n",
    "            res2 = requests.get(src, headers=headers, stream=True)\n",
    "            f = open('./photo/'+str(j)+ '.jpg', 'wb')\n",
    "            j+=1\n",
    "            shutil.copyfileobj(res2.raw, f)\n",
    "            f.close()\n",
    "            del res2\n",
    "    i+=1\n",
    "fout.close()\n",
    "print('finish')"
   ]
  },
  {
   "cell_type": "code",
   "execution_count": 36,
   "metadata": {},
   "outputs": [],
   "source": [
    "fout = open(\"test.txt\", 'w')\n",
    "fout.write(\"wwww\")\n",
    "fout.close()"
   ]
  },
  {
   "cell_type": "code",
   "execution_count": 51,
   "metadata": {},
   "outputs": [
    {
     "name": "stdout",
     "output_type": "stream",
     "text": [
      "['張檬', '王寶強', '羅晉', '水原希子', '張若昀', '譚松韻', '李易峰', '周冬雨', '邊伯賢', '陳妍希', '范冰冰', '防彈少年團', '胡歌', '林更新', '李沁', '霍建華', '鄧超', '金泫雅', '黃婷婷', '成龍', '陳偉霆', '馬思純', '蔡依林', '黃磊', '章子怡', '婁藝瀟', '佐藤健', '董子健', '何炅', '小羅伯特·唐尼', '阮經天', '黃子韜', '王大陸', '張彬彬', '艾瑪·沃特森', '吳磊', '景甜', '張翰', '黃景瑜', '鄭爽', '陳意涵', '金秀賢', '樸燦烈', '宋承憲', '曾舜晞', '樸寶英', '井柏然', 'EXO', '石原里美', '喬振宇', '佟麗婭', '劉昊然', '宋慧喬', '艾瑪·斯通', '王子文', '竇驍', '郭子凡', '胡冰卿', '唐嫣', '斯嘉麗·約翰遜', '陸毅', '王思聰', '周杰倫', '黃曉明', '華晨宇', '安以軒', '王嘉爾', 'ladygaga', '王菲', '尹恩惠', '張一山', '麥莉·賽勒斯', '任嘉倫', '劉憲華', '李棟旭', '王凱', '崔勝鉉', '劉詩詩', '林志玲', '李光洙', '萬茜', '萊昂納多·迪卡普里奧', 'BIGBANG', '李敏鎬', '劉雯', '樸信惠', '趙又廷', '娜塔莉·波特曼', '歐陽娜娜', '關曉彤', '靳東', '裴秀智', '竇靖童', '張子楓', '秦俊傑', '吳彥祖', '張銘恩', '盛一倫', '湯姆·希德勒斯頓', '布拉德·皮特', '休·傑克曼', '徐海喬', '李圣經', 'IU', '張鈞甯', '楊穎', '田馥甄', '王心凌', '李現', '孫耀琦', '金高銀', '陳喬恩', '侯明昊', '劉亦菲', '高以翔', '袁婭維', '林依晨', '林心如', '小松菜奈', '唐藝昕', '李·佩斯', '李鍾碩', '魏大勳', '泰勒·斯威夫特', '山下智久', '王麗坤', '霍尊', '宋妍霏', '張天愛', '江一燕', '宋智孝', '新垣結衣', '奚夢瑤', '劉威龍', '宋祖儿', '金所炫', '李榮浩', '崔雪莉', '楊紫', '林允兒', '山崎賢人', '長澤雅美', '孔劉', '鄭秀妍', '穎兒', '申原昊', '五月天', '謝娜', '邢昭林', '倪妮', '全智賢', '韓雪', '陸星材', '李小璐', '錦榮', '孫儷', '張梓琳', '金泰妍', '蔣勤勤', '黃渤', '昆凌', '張繼科', '余男', '李菲兒', '姜思达', '盧杉', 'TWICE', '舒暢', '歐豪', '周雨彤', '高圓圓', '楊旭文', '高偉光', '丹·史蒂文斯', '元斌', '張靚穎', '孔孝真', '張傑', '南笙', '切斯·克勞福', '瑞恩·高斯林', '王紫璇', '大張偉', '蔣勁夫', '蔣欣', '劉濤', '郭碧婷', '綾瀨遙', '詹妮弗·勞倫斯', '熱狗', '莉莉·柯林斯', '喬欣', '尼坤', '陳曉', '江鎧同', '馬可', '渡邊麻友', '鄧倫', '宋茜', '池昌旭', '']\n"
     ]
    }
   ],
   "source": [
    "f = open('test.txt' ,'r', encoding = 'utf8')\n",
    "img =[]\n",
    "line = f.readline().strip('\\n')\n",
    "img.append(line)\n",
    "while line:\n",
    "    fileName = line\n",
    "    line = f.readline().strip('\\n')\n",
    "    img.append(line)\n",
    "print(img)\n",
    "f.close()"
   ]
  },
  {
   "cell_type": "code",
   "execution_count": 6,
   "metadata": {},
   "outputs": [
    {
     "name": "stdout",
     "output_type": "stream",
     "text": [
      "jpg\n"
     ]
    }
   ],
   "source": [
    "src = \"http://cdn01.happyjuzi.com/upload/star/5757ea20743e3.jpg?imageMogr2/thumbnail/!220x220r/gravity/North/crop/220x220\"\n",
    "tp = src.split('?')[0]\n",
    "tp = tp.split('/')[-1]\n",
    "tp = tp.split('.')[-1]\n",
    "print(tp)"
   ]
  },
  {
   "cell_type": "code",
   "execution_count": null,
   "metadata": {},
   "outputs": [],
   "source": []
  }
 ],
 "metadata": {
  "kernelspec": {
   "display_name": "Python 3",
   "language": "python",
   "name": "python3"
  },
  "language_info": {
   "codemirror_mode": {
    "name": "ipython",
    "version": 3
   },
   "file_extension": ".py",
   "mimetype": "text/x-python",
   "name": "python",
   "nbconvert_exporter": "python",
   "pygments_lexer": "ipython3",
   "version": "3.7.1"
  }
 },
 "nbformat": 4,
 "nbformat_minor": 2
}
